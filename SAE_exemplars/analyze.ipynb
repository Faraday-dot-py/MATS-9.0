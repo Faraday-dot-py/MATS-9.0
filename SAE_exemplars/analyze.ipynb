{
 "cells": [
  {
   "cell_type": "code",
   "execution_count": null,
   "id": "afca618c",
   "metadata": {},
   "outputs": [],
   "source": []
  },
  {
   "cell_type": "code",
   "execution_count": 9,
   "id": "29f67f6c",
   "metadata": {},
   "outputs": [],
   "source": [
    "import os\n",
    "\n",
    "facebook = []\n",
    "gemma = []\n",
    "facebookOut = \"facebook.txt\"\n",
    "gemmaOut = 'gemma.txt'\n",
    "\n",
    "for file in os.listdir('.'):\n",
    "    if file.endswith('.txt'):\n",
    "        if 'facebook' in file:\n",
    "            with open(file, 'r', encoding='utf-8') as f: facebook.append(f.read())\n",
    "        else:\n",
    "            with open(file, 'r', encoding='utf-8') as f: gemma.append(f.read())\n",
    "\n",
    "with open(facebookOut, 'w', encoding='utf-8') as f:\n",
    "    f.write(\"\\n\\n\".join(facebook))\n",
    "\n",
    "with open(gemmaOut, 'w', encoding='utf-8') as f:\n",
    "    f.write(\"\\n\\n\".join(gemma))"
   ]
  }
 ],
 "metadata": {
  "kernelspec": {
   "display_name": "MATS-9.0 (3.13.1)",
   "language": "python",
   "name": "python3"
  },
  "language_info": {
   "codemirror_mode": {
    "name": "ipython",
    "version": 3
   },
   "file_extension": ".py",
   "mimetype": "text/x-python",
   "name": "python",
   "nbconvert_exporter": "python",
   "pygments_lexer": "ipython3",
   "version": "3.13.1"
  }
 },
 "nbformat": 4,
 "nbformat_minor": 5
}
