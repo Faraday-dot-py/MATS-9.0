{
 "cells": [
  {
   "cell_type": "code",
   "execution_count": 2,
   "id": "06d61f07",
   "metadata": {},
   "outputs": [
    {
     "name": "stderr",
     "output_type": "stream",
     "text": [
      "c:\\Users\\awebb\\Documents\\Work\\MATS-9.0\\Lib\\site-packages\\tqdm\\auto.py:21: TqdmWarning: IProgress not found. Please update jupyter and ipywidgets. See https://ipywidgets.readthedocs.io/en/stable/user_install.html\n",
      "  from .autonotebook import tqdm as notebook_tqdm\n"
     ]
    }
   ],
   "source": [
    "import torch, torch.nn as nn, torch.nn.functional as F\n",
    "from torch.utils.data import DataLoader, Dataset\n",
    "from transformers import AutoTokenizer, AutoModelForCausalLM\n"
   ]
  },
  {
   "cell_type": "code",
   "execution_count": 8,
   "id": "0f1251be",
   "metadata": {},
   "outputs": [],
   "source": [
    "# Core\n",
    "import torch, torch.nn as nn, torch.nn.functional as F\n",
    "from torch.utils.data import DataLoader, Dataset\n",
    "\n",
    "# Hugging Face\n",
    "from transformers import AutoTokenizer, AutoModelForCausalLM\n",
    "\n",
    "device = torch.device(\"cuda\" if torch.cuda.is_available() else \"cpu\")\n",
    "MODEL_NAME = \"gpt2\"  # start small; later swap to your target model\n",
    "tokenizer = AutoTokenizer.from_pretrained(MODEL_NAME)\n",
    "if tokenizer.pad_token is None:\n",
    "    tokenizer.pad_token = tokenizer.eos_token\n",
    "\n",
    "model = AutoModelForCausalLM.from_pretrained(MODEL_NAME, output_hidden_states=True).to(device).eval()\n"
   ]
  },
  {
   "cell_type": "code",
   "execution_count": 4,
   "id": "f6845be8",
   "metadata": {},
   "outputs": [
    {
     "name": "stderr",
     "output_type": "stream",
     "text": [
      "  % Total    % Received % Xferd  Average Speed   Time    Time     Time  Current\n",
      "                                 Dload  Upload   Total   Spent    Left  Speed\n",
      "\n",
      "  0     0    0     0    0     0      0      0 --:--:-- --:--:-- --:--:--     0\n",
      "100 5330k  100 5330k    0     0  17.0M      0 --:--:-- --:--:-- --:--:-- 17.1M\n"
     ]
    }
   ],
   "source": [
    "!curl \"https://ocw.mit.edu/ans7870/6/6.006/s08/lecturenotes/files/t8.shakespeare.txt\" > \"shakespeare.txt\""
   ]
  },
  {
   "cell_type": "code",
   "execution_count": 16,
   "id": "a37fbfe7",
   "metadata": {},
   "outputs": [],
   "source": [
    "class SimpleTextDataset(Dataset):\n",
    "    def __init__(self, strings, tokenizer, maxLen=256):\n",
    "        self.strings = strings\n",
    "        self.tokenizer = tokenizer\n",
    "        self.maxLen = maxLen\n",
    "    \n",
    "    def __len__(self): \n",
    "        return len(self.strings)\n",
    "    \n",
    "    def __getitem__(self, i):\n",
    "        enc = self.tokenizer(\n",
    "            self.strings[i], \n",
    "            return_tensors=\"pt\", \n",
    "            truncation=True, \n",
    "            max_length=self.maxLen,\n",
    "            padding=\"max_length\",\n",
    "        )\n",
    "        return {k: v.squeeze(0) for k, v in enc.items()}\n",
    "    \n",
    "with open(\"shakespeare.txt\", \"r\") as f:\n",
    "    text = f.read()\n",
    "\n",
    "marker=\"\"\"1609\n",
    "\n",
    "THE SONNETS\n",
    "\n",
    "by William Shakespeare\"\"\"\n",
    "\n",
    "# This nasty little one liner gets rid of the header and gives us just the text\n",
    "# Might want to get rid of the passage numbers later\n",
    "shakespeare = text[text.find(marker)+len(marker):].strip().split('\\n\\n\\n')\n",
    "\n",
    "dataset = SimpleTextDataset(shakespeare, tokenizer)\n",
    "dataloader = DataLoader(dataset, batch_size = 8, shuffle = True, drop_last = True)"
   ]
  },
  {
   "cell_type": "code",
   "execution_count": null,
   "id": "3ed539bd",
   "metadata": {},
   "outputs": [
    {
     "data": {
      "text/plain": [
       "torch.Size([1240, 768])"
      ]
     },
     "execution_count": 17,
     "metadata": {},
     "output_type": "execute_result"
    }
   ],
   "source": [
    "# This is where we get the interesting bits\n",
    "@torch.no_grad()\n",
    "def collect_activations(dataloader, takeLastToken=True, maxBatches=50):\n",
    "    outputActivations = [] # The eventual feature activations\n",
    "    for i, batch in enumerate(dataloader):\n",
    "        if i >= maxBatches: break # Make sure we don't get lost in the sauce\n",
    "        \"\"\"\n",
    "        Q: What does this next line mean?\n",
    "        A: Move all the tensors from the dataloader batches to {device}\n",
    "        \"\"\"\n",
    "        batch = {k: v.to(device) for k, v in batch.items()}\n",
    "        # Where the magic happens\n",
    "        # Pass the batch through the model\n",
    "        out = model(**batch)\n",
    "        hiddenStates = out.hidden_states[-1]\n",
    "        if takeLastToken:\n",
    "            lastHiddenState = hiddenStates[:, -1, :] # This is the last hiidden state (final res stream)\n",
    "                            # High in semantic data ^\n",
    "            # TODO: Randomly break up text. The last token may be punctuation heavy\n",
    "        else:\n",
    "            lastHiddenState = hiddenStates.reshape(-1, hiddenStates.size(-1))\n",
    "        \n",
    "        \"\"\"\n",
    "        Q: What does detach() do?\n",
    "        A: It pulls the tensor away from the computation graph\n",
    "        Reason: That's all we need. If we don't, PyTorch will run backprop (don't need it)\n",
    "        \"\"\"\n",
    "        outputActivations.append(lastHiddenState.detach().cpu())\n",
    "        \n",
    "    return torch.cat(outputActivations, dim=0)\n",
    "\n",
    "activations = collect_activations(dataloader, takeLastToken=True, maxBatches=200)\n",
    "activations.shape        "
   ]
  },
  {
   "cell_type": "code",
   "execution_count": null,
   "id": "5cb8086a",
   "metadata": {},
   "outputs": [],
   "source": []
  },
  {
   "cell_type": "code",
   "execution_count": null,
   "id": "dd3cf401",
   "metadata": {},
   "outputs": [],
   "source": [
    "# Format activations for SAE\n"
   ]
  },
  {
   "cell_type": "code",
   "execution_count": null,
   "id": "a75be99f",
   "metadata": {},
   "outputs": [],
   "source": [
    "# Define SAE\n"
   ]
  },
  {
   "cell_type": "code",
   "execution_count": null,
   "id": "8cc9d9e7",
   "metadata": {},
   "outputs": [],
   "source": [
    "# Run activations through SAE\n",
    "\n"
   ]
  }
 ],
 "metadata": {
  "kernelspec": {
   "display_name": "MATS-9.0 (3.13.1)",
   "language": "python",
   "name": "python3"
  },
  "language_info": {
   "codemirror_mode": {
    "name": "ipython",
    "version": 3
   },
   "file_extension": ".py",
   "mimetype": "text/x-python",
   "name": "python",
   "nbconvert_exporter": "python",
   "pygments_lexer": "ipython3",
   "version": "3.13.1"
  }
 },
 "nbformat": 4,
 "nbformat_minor": 5
}
